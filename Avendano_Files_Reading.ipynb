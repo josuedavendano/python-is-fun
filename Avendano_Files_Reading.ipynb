{
  "nbformat": 4,
  "nbformat_minor": 0,
  "metadata": {
    "colab": {
      "name": "Josue_Avendano_5_5_HW.ipynb",
      "version": "0.3.2",
      "provenance": []
    },
    "kernelspec": {
      "name": "python3",
      "display_name": "Python 3"
    }
  },
  "cells": [
    {
      "metadata": {
        "id": "Qfgj_n9q7yAS",
        "colab_type": "code",
        "colab": {
          "base_uri": "https://localhost:8080/",
          "height": 68
        },
        "outputId": "cae576a2-fb06-40b9-f83a-459434644e5f"
      },
      "cell_type": "code",
      "source": [
        "#Josue Avendano\n",
        "#Assignment 5.5, Files  \n",
        "#Read the numbers from scores.txt and output the average, \n",
        "#minimum, and maximum numbers.\n",
        "\n",
        "count = 0\n",
        "maxNum = 0\n",
        "minNum = 1000000\n",
        "scoresFile = open('scores.txt')\n",
        "\n",
        "for i in scoresFile:\n",
        "  total = int(i)\n",
        "  k = int(i)\n",
        "  count += 1\n",
        "  total+= total\n",
        "  if k > maxNum:\n",
        "    maxNum = k\n",
        "  if k < minNum:\n",
        "    minNum = k\n",
        "average = total/count\n",
        "\n",
        "print('The avg of the number in your file is: ', average)\n",
        "print('The max number in your file is: ', maxNum)\n",
        "print('The min number in your file is: ', minNum)\n",
        "\n",
        "\n",
        "\n"
      ],
      "execution_count": 20,
      "outputs": [
        {
          "output_type": "stream",
          "text": [
            "The avg of the number in your file is:  12.384615384615385\n",
            "The max number in your file is:  180\n",
            "The min number in your file is:  94\n"
          ],
          "name": "stdout"
        }
      ]
    }
  ]
}