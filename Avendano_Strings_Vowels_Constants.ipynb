{
  "nbformat": 4,
  "nbformat_minor": 0,
  "metadata": {
    "colab": {
      "name": "Josue_Avendano_6_1_CW.ipynb",
      "version": "0.3.2",
      "provenance": [],
      "include_colab_link": true
    },
    "kernelspec": {
      "name": "python3",
      "display_name": "Python 3"
    }
  },
  "cells": [
    {
      "cell_type": "markdown",
      "metadata": {
        "id": "view-in-github",
        "colab_type": "text"
      },
      "source": [
        "<a href=\"https://colab.research.google.com/github/josuedavendano/python-is-fun/blob/master/Avendano_Strings_Vowels_Constants.ipynb\" target=\"_parent\"><img src=\"https://colab.research.google.com/assets/colab-badge.svg\" alt=\"Open In Colab\"/></a>"
      ]
    },
    {
      "metadata": {
        "id": "X2L6hZVsDnnd",
        "colab_type": "code",
        "colab": {
          "base_uri": "https://localhost:8080/",
          "height": 68
        },
        "outputId": "b2d377f3-c99e-4c68-d819-c0bab53b2eeb"
      },
      "cell_type": "code",
      "source": [
        "#Josue Avendano\n",
        "#January 10th, 2019\n",
        "\n",
        "#Write a program with a function that accepts a string as an argument and \n",
        "#returns the number of vowels that the string contains. The application \n",
        "#should have another function that accepts a string as an argument and returns \n",
        "#the number of consonants that the string contains. The application should let \n",
        "#the user enter a string and should display the number of vowels and the number\n",
        "#of consonants it contains.\n",
        "\n",
        "\n",
        "def vowel(word):\n",
        "  count = 0\n",
        "  word = word.upper()\n",
        "  vowels = ['A','E','I','O','U']\n",
        "  for character in word:\n",
        "    if character in vowels:\n",
        "      count += 1\n",
        "  return(count)\n",
        "\n",
        "def constant(word):\n",
        "  count2 = 0\n",
        "  word = word.upper()\n",
        "  vowels = ['A','E','I','O','U']\n",
        "  for character in word:\n",
        "    if (character not in vowels) and (character.isalpha()):\n",
        "      count2 += 1\n",
        "  return(count2)\n",
        "    \n",
        "    \n",
        "def main():\n",
        "  word = input('Enter a word: ')\n",
        "  count = vowel(word)\n",
        "  count2= constant(word)\n",
        "  print('There is/are ', count, ' vowels in your word.')\n",
        "  print('There is/are ', count2, ' constants in your word.')\n",
        "  \n",
        "main()\n",
        "  \n",
        "  "
      ],
      "execution_count": 67,
      "outputs": [
        {
          "output_type": "stream",
          "text": [
            "Enter a word: haha\n",
            "There is/are  2  vowels in your word.\n",
            "There is/are  2  constants in your word.\n"
          ],
          "name": "stdout"
        }
      ]
    }
  ]
}