{
  "nbformat": 4,
  "nbformat_minor": 0,
  "metadata": {
    "colab": {
      "name": "Josue_Avendano_6_7_HW.ipynb",
      "version": "0.3.2",
      "provenance": [],
      "include_colab_link": true
    },
    "kernelspec": {
      "name": "python3",
      "display_name": "Python 3"
    }
  },
  "cells": [
    {
      "cell_type": "markdown",
      "metadata": {
        "id": "view-in-github",
        "colab_type": "text"
      },
      "source": [
        "<a href=\"https://colab.research.google.com/github/josuedavendano/python-is-fun/blob/master/Josue_Avendano_6_7_Lists.ipynb\" target=\"_parent\"><img src=\"https://colab.research.google.com/assets/colab-badge.svg\" alt=\"Open In Colab\"/></a>"
      ]
    },
    {
      "metadata": {
        "id": "GpMz6xg__AUB",
        "colab_type": "code",
        "outputId": "a338e60f-3c8a-4661-919e-1afc9556a94a",
        "colab": {
          "base_uri": "https://localhost:8080/",
          "height": 153
        }
      },
      "cell_type": "code",
      "source": [
        "#Josue Avendano\n",
        "#Assignment 6.7 Classwork\n",
        "#January 14, 2019\n",
        "\n",
        "#Question 1\n",
        "salesPerWeek = []\n",
        "total = 0\n",
        "for i in range(0,7):\n",
        "  sales = float(input('Enter sales for days 1 to 7: '))\n",
        "  salesPerWeek.append(sales)\n",
        "  total += sales\n",
        "print('Your total sales are $',total)"
      ],
      "execution_count": 0,
      "outputs": [
        {
          "output_type": "stream",
          "text": [
            "Enter sales for days 1 to 7: 20.4\n",
            "Enter sales for days 1 to 7: 34.5\n",
            "Enter sales for days 1 to 7: 36.4\n",
            "Enter sales for days 1 to 7: 342.1\n",
            "Enter sales for days 1 to 7: 342.3\n",
            "Enter sales for days 1 to 7: 442.\n",
            "Enter sales for days 1 to 7: 342.4\n",
            "Your total sales are $ 1560.1\n"
          ],
          "name": "stdout"
        }
      ]
    },
    {
      "metadata": {
        "id": "75g_3glLCxHh",
        "colab_type": "code",
        "outputId": "c3292bdc-d5d8-4353-8301-93a45d031bd9",
        "colab": {
          "base_uri": "https://localhost:8080/",
          "height": 34
        }
      },
      "cell_type": "code",
      "source": [
        "#Question 2\n",
        "import random\n",
        "lottery = []\n",
        "for i in range(0,7):\n",
        "  randNum = random.randint(0,9)\n",
        "  lottery.append(randNum)\n",
        "print(lottery)"
      ],
      "execution_count": 0,
      "outputs": [
        {
          "output_type": "stream",
          "text": [
            "[2, 8, 3, 5, 0, 6, 1]\n"
          ],
          "name": "stdout"
        }
      ]
    },
    {
      "metadata": {
        "id": "fsx1q1ZyE8_5",
        "colab_type": "code",
        "outputId": "96bcff3e-bd7c-47b9-e25e-c11ba4d175f1",
        "colab": {
          "base_uri": "https://localhost:8080/",
          "height": 34
        }
      },
      "cell_type": "code",
      "source": [
        "#Question 3\n",
        "import statistics\n",
        "scoresFile = open('scores.txt','r')\n",
        "scores = []\n",
        "largestNum = 0\n",
        "for score in scoresFile:\n",
        "  s = score.strip()\n",
        "  s = int(s)\n",
        "  scores.append(s)\n",
        "  for x in scores:\n",
        "    if x > largestNum:\n",
        "      largestNum = x   \n",
        "avg = statistics.mean(scores)\n",
        "minNum = min(scores)\n",
        "print('The mean is', avg ,'. The largest number is', largestNum ,'. The mininum number is', minNum)\n",
        "  "
      ],
      "execution_count": 0,
      "outputs": [
        {
          "output_type": "stream",
          "text": [
            "The mean is 148.15384615384616 .The largest number is 180 The mininum number is 94\n"
          ],
          "name": "stdout"
        }
      ]
    },
    {
      "metadata": {
        "id": "5UUtQ82qLThp",
        "colab_type": "code",
        "outputId": "1494f373-7fc4-42e0-9d9f-7f8124456172",
        "colab": {
          "base_uri": "https://localhost:8080/",
          "height": 187
        }
      },
      "cell_type": "code",
      "source": [
        "#Question 4\n",
        "square=[[0,0,0],[0,0,0],[0,0,0]]\n",
        "for x in range(0,3):\n",
        "  for y in range(0,3):\n",
        "    square[x][y] = int(input('Enter a non-negative integer: '))   \n",
        "x=0\n",
        "y=1\n",
        "z=2\n",
        "x1 = square[0][x]+square[1][x]+square[2][x]\n",
        "x2 = square[0][y]+square[1][y]+square[2][y]\n",
        "x3 = square[0][z]+square[1][z]+square[2][z]\n",
        "y1 = square[0][x]+square[1][x+1]+square[2][x+2]\n",
        "y2 = square[0][z]+square[1][z-1]+square[2][z-2]\n",
        "y3 = square[x][0]+square[x][1]+square[x][2]\n",
        "z1 = square[y][0]+square[y][1]+square[y][2]\n",
        "z2 = square[z][0]+square[z][1]+square[z][2]\n",
        "\n",
        "if (x1)==(x2)==(x3):\n",
        "  if (y1)==(y2):\n",
        "    if(y3)==(z1)==(z2):\n",
        "      print('This is a magic square!')\n",
        "    else:\n",
        "      print('Sorry, this is not a magic square.')\n",
        "  else:\n",
        "    print('Sorry, this is not a magic square.')\n",
        "else:\n",
        "    print('Sorry, this is not a magic square.')"
      ],
      "execution_count": 58,
      "outputs": [
        {
          "output_type": "stream",
          "text": [
            "Enter a non-negative integer: 1\n",
            "Enter a non-negative integer: 1\n",
            "Enter a non-negative integer: 1\n",
            "Enter a non-negative integer: 1\n",
            "Enter a non-negative integer: 1\n",
            "Enter a non-negative integer: 1\n",
            "Enter a non-negative integer: 1\n",
            "Enter a non-negative integer: 1\n",
            "Enter a non-negative integer: 1\n",
            "This is a magic square!\n"
          ],
          "name": "stdout"
        }
      ]
    },
    {
      "metadata": {
        "id": "WDYM-EKro_Sr",
        "colab_type": "code",
        "colab": {}
      },
      "cell_type": "code",
      "source": [
        ""
      ],
      "execution_count": 0,
      "outputs": []
    }
  ]
}