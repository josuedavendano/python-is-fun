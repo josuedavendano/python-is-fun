{
  "nbformat": 4,
  "nbformat_minor": 0,
  "metadata": {
    "colab": {
      "name": "Josue_Avendano_7_4_HW.ipynb",
      "version": "0.3.2",
      "provenance": [],
      "include_colab_link": true
    },
    "kernelspec": {
      "name": "python3",
      "display_name": "Python 3"
    }
  },
  "cells": [
    {
      "cell_type": "markdown",
      "metadata": {
        "id": "view-in-github",
        "colab_type": "text"
      },
      "source": [
        "<a href=\"https://colab.research.google.com/github/josuedavendano/python-is-fun/blob/master/Josue_Avendano_Practicing_With_Dictionaries.ipynb\" target=\"_parent\"><img src=\"https://colab.research.google.com/assets/colab-badge.svg\" alt=\"Open In Colab\"/></a>"
      ]
    },
    {
      "metadata": {
        "id": "noUBWjVRXxzG",
        "colab_type": "code",
        "outputId": "a3164de2-5846-4f78-8848-22fe5f5a9175",
        "colab": {
          "base_uri": "https://localhost:8080/",
          "height": 35
        }
      },
      "cell_type": "code",
      "source": [
        "#Josue Avendano\n",
        "#Practicing with Dictionaries and Lists :)\n",
        "#January 14, 2019\n",
        "\n",
        "dic1 = {1:10,2:20}\n",
        "dic2 = {3:30,4:40}\n",
        "dic3 = {5:50,6:60}\n",
        "result = {**dic1,**dic2, **dic3}\n",
        "print(result)"
      ],
      "execution_count": 0,
      "outputs": [
        {
          "output_type": "stream",
          "text": [
            "{1: 10, 2: 20, 3: 30, 4: 40, 5: 50, 6: 60}\n"
          ],
          "name": "stdout"
        }
      ]
    },
    {
      "metadata": {
        "id": "sQNm_PUcZP-Y",
        "colab_type": "code",
        "outputId": "7b291c15-dc4f-49ba-87ba-9a91d6cec2d3",
        "colab": {
          "base_uri": "https://localhost:8080/",
          "height": 52
        }
      },
      "cell_type": "code",
      "source": [
        "#Question 2\n",
        "from collections import Counter\n",
        "dic1 = {1:10,2:20}\n",
        "dic2 = {1:20,3:30,4:40}\n",
        "dic3 = {5:50,6:60,3:60}\n",
        "\n",
        "dic = Counter(dic1) + Counter(dic2) + Counter(dic3)\n",
        "dic = dict(dic)\n",
        "print(dic)"
      ],
      "execution_count": 0,
      "outputs": [
        {
          "output_type": "stream",
          "text": [
            "<class 'dict'>\n",
            "{1: 30, 2: 20, 3: 90, 4: 40, 5: 50, 6: 60}\n"
          ],
          "name": "stdout"
        }
      ]
    },
    {
      "metadata": {
        "id": "5UoUbcqHag4I",
        "colab_type": "code",
        "colab": {}
      },
      "cell_type": "code",
      "source": [
        "%reset"
      ],
      "execution_count": 0,
      "outputs": []
    },
    {
      "metadata": {
        "id": "bvC2jO8-dWxO",
        "colab_type": "code",
        "outputId": "e3b3317d-540c-4567-fdcc-36140d41f695",
        "colab": {
          "base_uri": "https://localhost:8080/",
          "height": 34
        }
      },
      "cell_type": "code",
      "source": [
        "#Question 3\n",
        "numbers = {'VI': 'S001','IX':'S002','X':\"S001\",'IV':'S005','VII':'S005','V':'S009','VIII':'S007'}\n",
        "i = []\n",
        "for number in numbers.values():\n",
        "  i.append(number)\n",
        "for z in i:\n",
        "  if  i.count(z) >=  1:\n",
        "    i.remove(z)\n",
        "print(i)"
      ],
      "execution_count": 0,
      "outputs": [
        {
          "output_type": "stream",
          "text": [
            "['S002', 'S005', 'S009']\n"
          ],
          "name": "stdout"
        }
      ]
    },
    {
      "metadata": {
        "id": "9Z-SqPr-c9Ol",
        "colab_type": "code",
        "outputId": "57663769-0c3c-47cd-c10f-4c4d370a7074",
        "colab": {
          "base_uri": "https://localhost:8080/",
          "height": 34
        }
      },
      "cell_type": "code",
      "source": [
        "#Question 4\n",
        "sentence = 'josue avendano'\n",
        "chars = {}\n",
        "sentence = list(sentence)\n",
        "length = len(sentence)\n",
        "counter = []\n",
        "for char in sentence:\n",
        "  counting = sentence.count(char)\n",
        "  counter.append(counting)\n",
        "chars = zip(sentence,counter)\n",
        "chars = dict(chars)\n",
        "print(chars)"
      ],
      "execution_count": 136,
      "outputs": [
        {
          "output_type": "stream",
          "text": [
            "{'j': 1, 'o': 2, 's': 1, 'u': 1, 'e': 2, ' ': 1, 'a': 2, 'v': 1, 'n': 2, 'd': 1}\n"
          ],
          "name": "stdout"
        }
      ]
    }
  ]
}