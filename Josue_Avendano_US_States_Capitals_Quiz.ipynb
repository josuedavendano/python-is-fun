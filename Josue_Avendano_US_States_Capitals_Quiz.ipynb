{
  "nbformat": 4,
  "nbformat_minor": 0,
  "metadata": {
    "colab": {
      "name": "Josue_Avendano_7_2_HW.ipynb",
      "version": "0.3.2",
      "provenance": [],
      "include_colab_link": true
    },
    "kernelspec": {
      "name": "python3",
      "display_name": "Python 3"
    }
  },
  "cells": [
    {
      "cell_type": "markdown",
      "metadata": {
        "id": "view-in-github",
        "colab_type": "text"
      },
      "source": [
        "<a href=\"https://colab.research.google.com/github/josuedavendano/python-is-fun/blob/master/Josue_Avendano_US_States_Capitals_Quiz.ipynb\" target=\"_parent\"><img src=\"https://colab.research.google.com/assets/colab-badge.svg\" alt=\"Open In Colab\"/></a>"
      ]
    },
    {
      "metadata": {
        "id": "cuhFcKMwV8mj",
        "colab_type": "code",
        "outputId": "4d877f05-13b4-4560-ebf4-cac28f5cad15",
        "colab": {
          "base_uri": "https://localhost:8080/",
          "height": 105
        }
      },
      "cell_type": "code",
      "source": [
        "#Josue Avendano\n",
        "#Assignment 7.2\n",
        "#January 14, 2019\n",
        "import random\n",
        "statesCapital = dict()\n",
        "\n",
        "usFile = open('USStatesCapital.txt','r')\n",
        "for line in usFile:\n",
        "  line = line.strip()\n",
        "  line = line.upper()\n",
        "  states = line.split(',')\n",
        "  statesCapital[states[0]] = states[1]\n",
        "print(statesCapital)\n",
        "\n",
        "randomState = random.sample(list(statesCapital),1)\n",
        "correctCapital = statesCapital[randomState[0]]\n",
        "correctCapital = correctCapital.upper()\n",
        "\n",
        "capital = input('Enter the following states capital: ' + randomState[0] + '\\n')\n",
        "capital = capital.upper()\n",
        "\n",
        "if capital == correctCapital:\n",
        "  print('You answered correctly!')\n",
        "else:\n",
        "  print('Try another one.')\n",
        "\n",
        "\n",
        "\n",
        "\n"
      ],
      "execution_count": 63,
      "outputs": [
        {
          "output_type": "stream",
          "text": [
            "{'ALABAMA': 'MONTGOMERY', 'ALASKA': 'JUNEAU', 'ARIZONA': 'PHOENIX', 'ARKANSAS': 'LITTLE ROCK', 'CALIFORNIA': 'SACRAMENTO', 'COLORADO': 'DENVER', 'CONNECTICUT': 'HARTFORD', 'DELAWARE': 'DOVER', 'FLORIDA': 'TALLAHASSEE', 'GEORGIA': 'ATLANTA', 'HAWAII': 'HONOLULU', 'IDAHO': 'BOISE', 'ILLINOIS': 'SPRINGFIELD', 'INDIANA': 'INDIANAPOLIS', 'IOWA': 'DES MOINES', 'KANSAS': 'TOPEKA', 'KENTUCKY': 'FRANKFORT', 'LOUISIANA': 'BATON ROUGE', 'MAINE': 'AUGUSTA', 'MARYLAND': 'ANNAPOLIS', 'MASSACHUSETTS': 'BOSTON', 'MICHIGAN': 'LANSING', 'MINNESOTA': 'ST. PAUL', 'MISSISSIPPI': 'JACKSON', 'MISSOURI': 'JEFFERSON CITY', 'MONTANA': 'HELENA', 'NEBRASKA': 'LINCOLN', 'NEVADA': 'CARSON CITY', 'NEW HAMPSHIRE': 'CONCORD', 'NEW JERSEY': 'TRENTON', 'NEW MEXICO': 'SANTA FE', 'NEW YORK': 'ALBANY', 'NORTH CAROLINA': 'RALEIGH', 'NORTH DAKOTA': 'BISMARCK', 'OHIO': 'COLUMBUS', 'OKLAHOMA': 'OKLAHOMA CITY', 'OREGON': 'SALEM', 'PENNSYLVANIA': 'HARRISBURG', 'RHODE ISLAND': 'PROVIDENCE', 'SOUTH CAROLINA': 'COLUMBIA', 'SOUTH DAKOTA': 'PIERRE', 'TENNESSEE': 'NASHVILLE', 'TEXAS': 'AUSTIN', 'UTAH': 'SALT LAKE CITY', 'VERMONT': 'MONTPELIER', 'VIRGINIA': 'RICHMOND', 'WASHINGTON': 'OLYMPIA', 'WEST VIRGINIA': 'CHARLESTON', 'WISCONSIN': 'MADISON', 'WYOMING': 'CHEYENNE'}\n",
            "Enter the following states capital: NEW JERSEY\n",
            "Trenton\n",
            "You answered correctly!\n"
          ],
          "name": "stdout"
        }
      ]
    }
  ]
}